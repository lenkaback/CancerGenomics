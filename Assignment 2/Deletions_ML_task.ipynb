{
 "cells": [
  {
   "cell_type": "markdown",
   "metadata": {},
   "source": [
    "## Cancer Genomics Assignment 2"
   ]
  },
  {
   "cell_type": "code",
   "execution_count": 1,
   "metadata": {},
   "outputs": [],
   "source": [
    "import pandas as pd\n",
    "import numpy as np\n",
    "import sklearn.pipeline\n",
    "import sklearn.model_selection\n",
    "import sklearn.linear_model\n",
    "import sklearn.ensemble\n",
    "import sklearn.decomposition \n",
    "import sklearn.preprocessing \n",
    "import sklearn.tree\n",
    "import sklearn.compose\n",
    "import sklearn.metrics\n",
    "import matplotlib.pyplot as plt\n",
    "import matplotlib\n",
    "import sklearn.pipeline\n",
    "import lzma \n",
    "import pickle\n",
    "\n",
    "matplotlib.rcParams['figure.figsize'] = (12, 10)"
   ]
  },
  {
   "cell_type": "markdown",
   "metadata": {},
   "source": [
    "Choose a random seed for all further calculations with randomisation."
   ]
  },
  {
   "cell_type": "code",
   "execution_count": 2,
   "metadata": {},
   "outputs": [],
   "source": [
    "rs = 22"
   ]
  },
  {
   "cell_type": "markdown",
   "metadata": {},
   "source": [
    "### Data loading\n",
    "Load the data using **pandas**, setting the delimiter to '\\t' (Tab). Index the rows of the `DataFrame` by the ids for further reference. Drop columns `id` and `chr_start_end`."
   ]
  },
  {
   "cell_type": "code",
   "execution_count": 3,
   "metadata": {},
   "outputs": [
    {
     "data": {
      "text/html": [
       "<div>\n",
       "<style scoped>\n",
       "    .dataframe tbody tr th:only-of-type {\n",
       "        vertical-align: middle;\n",
       "    }\n",
       "\n",
       "    .dataframe tbody tr th {\n",
       "        vertical-align: top;\n",
       "    }\n",
       "\n",
       "    .dataframe thead th {\n",
       "        text-align: right;\n",
       "    }\n",
       "</style>\n",
       "<table border=\"1\" class=\"dataframe\">\n",
       "  <thead>\n",
       "    <tr style=\"text-align: right;\">\n",
       "      <th></th>\n",
       "      <th>size</th>\n",
       "      <th>vac</th>\n",
       "      <th>vaf</th>\n",
       "      <th>pass</th>\n",
       "      <th>missingrate</th>\n",
       "      <th>precise</th>\n",
       "      <th>ci</th>\n",
       "      <th>ce</th>\n",
       "      <th>refgq</th>\n",
       "      <th>altgq</th>\n",
       "      <th>rdratio</th>\n",
       "      <th>refratio</th>\n",
       "      <th>altratio</th>\n",
       "      <th>maxaltratio</th>\n",
       "      <th>status</th>\n",
       "    </tr>\n",
       "    <tr>\n",
       "      <th>id</th>\n",
       "      <th></th>\n",
       "      <th></th>\n",
       "      <th></th>\n",
       "      <th></th>\n",
       "      <th></th>\n",
       "      <th></th>\n",
       "      <th></th>\n",
       "      <th></th>\n",
       "      <th></th>\n",
       "      <th></th>\n",
       "      <th></th>\n",
       "      <th></th>\n",
       "      <th></th>\n",
       "      <th></th>\n",
       "      <th></th>\n",
       "    </tr>\n",
       "  </thead>\n",
       "  <tbody>\n",
       "    <tr>\n",
       "      <th>DEL00000012</th>\n",
       "      <td>808</td>\n",
       "      <td>1</td>\n",
       "      <td>0.000200</td>\n",
       "      <td>0</td>\n",
       "      <td>0.001997</td>\n",
       "      <td>0</td>\n",
       "      <td>287</td>\n",
       "      <td>0.00000</td>\n",
       "      <td>26</td>\n",
       "      <td>11</td>\n",
       "      <td>0.945455</td>\n",
       "      <td>0.0</td>\n",
       "      <td>0.285714</td>\n",
       "      <td>0.285714</td>\n",
       "      <td>NaN</td>\n",
       "    </tr>\n",
       "    <tr>\n",
       "      <th>DEL00000018</th>\n",
       "      <td>58</td>\n",
       "      <td>7</td>\n",
       "      <td>0.001399</td>\n",
       "      <td>1</td>\n",
       "      <td>0.000799</td>\n",
       "      <td>1</td>\n",
       "      <td>6</td>\n",
       "      <td>1.90770</td>\n",
       "      <td>21</td>\n",
       "      <td>28</td>\n",
       "      <td>0.648186</td>\n",
       "      <td>0.0</td>\n",
       "      <td>0.500000</td>\n",
       "      <td>0.888889</td>\n",
       "      <td>NaN</td>\n",
       "    </tr>\n",
       "    <tr>\n",
       "      <th>DEL00000020</th>\n",
       "      <td>55</td>\n",
       "      <td>1</td>\n",
       "      <td>0.000200</td>\n",
       "      <td>1</td>\n",
       "      <td>0.000000</td>\n",
       "      <td>1</td>\n",
       "      <td>2</td>\n",
       "      <td>1.92127</td>\n",
       "      <td>96</td>\n",
       "      <td>10000</td>\n",
       "      <td>0.668154</td>\n",
       "      <td>0.0</td>\n",
       "      <td>0.547619</td>\n",
       "      <td>0.547619</td>\n",
       "      <td>NaN</td>\n",
       "    </tr>\n",
       "    <tr>\n",
       "      <th>DEL00000080</th>\n",
       "      <td>634</td>\n",
       "      <td>10</td>\n",
       "      <td>0.001997</td>\n",
       "      <td>1</td>\n",
       "      <td>0.000000</td>\n",
       "      <td>1</td>\n",
       "      <td>5</td>\n",
       "      <td>1.92573</td>\n",
       "      <td>102</td>\n",
       "      <td>10000</td>\n",
       "      <td>0.434565</td>\n",
       "      <td>0.0</td>\n",
       "      <td>0.545455</td>\n",
       "      <td>1.000000</td>\n",
       "      <td>NaN</td>\n",
       "    </tr>\n",
       "    <tr>\n",
       "      <th>DEL00000114</th>\n",
       "      <td>53</td>\n",
       "      <td>307</td>\n",
       "      <td>0.061302</td>\n",
       "      <td>1</td>\n",
       "      <td>0.000000</td>\n",
       "      <td>1</td>\n",
       "      <td>24</td>\n",
       "      <td>1.87118</td>\n",
       "      <td>78</td>\n",
       "      <td>10000</td>\n",
       "      <td>0.717275</td>\n",
       "      <td>0.0</td>\n",
       "      <td>0.590909</td>\n",
       "      <td>1.000000</td>\n",
       "      <td>NaN</td>\n",
       "    </tr>\n",
       "    <tr>\n",
       "      <th>...</th>\n",
       "      <td>...</td>\n",
       "      <td>...</td>\n",
       "      <td>...</td>\n",
       "      <td>...</td>\n",
       "      <td>...</td>\n",
       "      <td>...</td>\n",
       "      <td>...</td>\n",
       "      <td>...</td>\n",
       "      <td>...</td>\n",
       "      <td>...</td>\n",
       "      <td>...</td>\n",
       "      <td>...</td>\n",
       "      <td>...</td>\n",
       "      <td>...</td>\n",
       "      <td>...</td>\n",
       "    </tr>\n",
       "    <tr>\n",
       "      <th>DEL00202501</th>\n",
       "      <td>875</td>\n",
       "      <td>10</td>\n",
       "      <td>0.001997</td>\n",
       "      <td>1</td>\n",
       "      <td>0.000000</td>\n",
       "      <td>0</td>\n",
       "      <td>136</td>\n",
       "      <td>0.00000</td>\n",
       "      <td>54</td>\n",
       "      <td>21</td>\n",
       "      <td>0.964944</td>\n",
       "      <td>0.0</td>\n",
       "      <td>0.090909</td>\n",
       "      <td>1.000000</td>\n",
       "      <td>NaN</td>\n",
       "    </tr>\n",
       "    <tr>\n",
       "      <th>DEL00202508</th>\n",
       "      <td>336</td>\n",
       "      <td>2</td>\n",
       "      <td>0.000399</td>\n",
       "      <td>1</td>\n",
       "      <td>0.000000</td>\n",
       "      <td>1</td>\n",
       "      <td>5</td>\n",
       "      <td>1.88236</td>\n",
       "      <td>48</td>\n",
       "      <td>10000</td>\n",
       "      <td>0.522206</td>\n",
       "      <td>0.0</td>\n",
       "      <td>0.636364</td>\n",
       "      <td>0.636364</td>\n",
       "      <td>NaN</td>\n",
       "    </tr>\n",
       "    <tr>\n",
       "      <th>DEL00202560</th>\n",
       "      <td>898</td>\n",
       "      <td>1</td>\n",
       "      <td>0.000200</td>\n",
       "      <td>1</td>\n",
       "      <td>0.000000</td>\n",
       "      <td>1</td>\n",
       "      <td>5</td>\n",
       "      <td>1.90604</td>\n",
       "      <td>54</td>\n",
       "      <td>135</td>\n",
       "      <td>0.499575</td>\n",
       "      <td>0.0</td>\n",
       "      <td>0.291667</td>\n",
       "      <td>0.291667</td>\n",
       "      <td>NaN</td>\n",
       "    </tr>\n",
       "    <tr>\n",
       "      <th>DEL00202579</th>\n",
       "      <td>71</td>\n",
       "      <td>18</td>\n",
       "      <td>0.003594</td>\n",
       "      <td>1</td>\n",
       "      <td>0.000000</td>\n",
       "      <td>1</td>\n",
       "      <td>8</td>\n",
       "      <td>1.98825</td>\n",
       "      <td>81</td>\n",
       "      <td>10000</td>\n",
       "      <td>0.627721</td>\n",
       "      <td>0.0</td>\n",
       "      <td>0.536585</td>\n",
       "      <td>0.884615</td>\n",
       "      <td>NaN</td>\n",
       "    </tr>\n",
       "    <tr>\n",
       "      <th>DEL00202582</th>\n",
       "      <td>602</td>\n",
       "      <td>1</td>\n",
       "      <td>0.000200</td>\n",
       "      <td>1</td>\n",
       "      <td>0.000000</td>\n",
       "      <td>1</td>\n",
       "      <td>5</td>\n",
       "      <td>1.92273</td>\n",
       "      <td>81</td>\n",
       "      <td>10000</td>\n",
       "      <td>0.625286</td>\n",
       "      <td>0.0</td>\n",
       "      <td>0.333333</td>\n",
       "      <td>0.333333</td>\n",
       "      <td>NaN</td>\n",
       "    </tr>\n",
       "  </tbody>\n",
       "</table>\n",
       "<p>27105 rows × 15 columns</p>\n",
       "</div>"
      ],
      "text/plain": [
       "             size  vac       vaf  pass  missingrate  precise   ci       ce  \\\n",
       "id                                                                           \n",
       "DEL00000012   808    1  0.000200     0     0.001997        0  287  0.00000   \n",
       "DEL00000018    58    7  0.001399     1     0.000799        1    6  1.90770   \n",
       "DEL00000020    55    1  0.000200     1     0.000000        1    2  1.92127   \n",
       "DEL00000080   634   10  0.001997     1     0.000000        1    5  1.92573   \n",
       "DEL00000114    53  307  0.061302     1     0.000000        1   24  1.87118   \n",
       "...           ...  ...       ...   ...          ...      ...  ...      ...   \n",
       "DEL00202501   875   10  0.001997     1     0.000000        0  136  0.00000   \n",
       "DEL00202508   336    2  0.000399     1     0.000000        1    5  1.88236   \n",
       "DEL00202560   898    1  0.000200     1     0.000000        1    5  1.90604   \n",
       "DEL00202579    71   18  0.003594     1     0.000000        1    8  1.98825   \n",
       "DEL00202582   602    1  0.000200     1     0.000000        1    5  1.92273   \n",
       "\n",
       "             refgq  altgq   rdratio  refratio  altratio  maxaltratio  status  \n",
       "id                                                                            \n",
       "DEL00000012     26     11  0.945455       0.0  0.285714     0.285714     NaN  \n",
       "DEL00000018     21     28  0.648186       0.0  0.500000     0.888889     NaN  \n",
       "DEL00000020     96  10000  0.668154       0.0  0.547619     0.547619     NaN  \n",
       "DEL00000080    102  10000  0.434565       0.0  0.545455     1.000000     NaN  \n",
       "DEL00000114     78  10000  0.717275       0.0  0.590909     1.000000     NaN  \n",
       "...            ...    ...       ...       ...       ...          ...     ...  \n",
       "DEL00202501     54     21  0.964944       0.0  0.090909     1.000000     NaN  \n",
       "DEL00202508     48  10000  0.522206       0.0  0.636364     0.636364     NaN  \n",
       "DEL00202560     54    135  0.499575       0.0  0.291667     0.291667     NaN  \n",
       "DEL00202579     81  10000  0.627721       0.0  0.536585     0.884615     NaN  \n",
       "DEL00202582     81  10000  0.625286       0.0  0.333333     0.333333     NaN  \n",
       "\n",
       "[27105 rows x 15 columns]"
      ]
     },
     "execution_count": 3,
     "metadata": {},
     "output_type": "execute_result"
    }
   ],
   "source": [
    "data = pd.read_csv('deletion.tsv.gz', delimiter='\\t')\n",
    "data.index = data['id']\n",
    "data_cleared = data.drop(['id', 'chr_start_end'], axis=1)\n",
    "data_cleared"
   ]
  },
  {
   "cell_type": "markdown",
   "metadata": {},
   "source": [
    "### PCA\n",
    "To visualise the data PCA is used. 2 separate categories can be seen, however, it is not divided into false and true deletions, as there is a mix of both groups in each of the clusters. Clusters may be another variable, which is divided into two groups."
   ]
  },
  {
   "cell_type": "code",
   "execution_count": 7,
   "metadata": {},
   "outputs": [
    {
     "name": "stdout",
     "output_type": "stream",
     "text": [
      "Explained variance by 2 components: 98.52%.\n"
     ]
    },
    {
     "data": {
      "image/png": "[encoded data removed]",
      "text/plain": [
       "<Figure size 864x720 with 1 Axes>"
      ]
     },
     "metadata": {
      "needs_background": "light"
     },
     "output_type": "display_data"
    }
   ],
   "source": [
    "pca = sklearn.decomposition.PCA(n_components=2)\n",
    "pca_values = pca.fit_transform(data_cleared.drop(['status'], axis=1))\n",
    "\n",
    "labels = ['Likely false deletion', 'Likely true deletion']\n",
    "\n",
    "for c in [0, 1]:\n",
    "    plt.scatter(pca_values[data_cleared[\"status\"]==c][:,0], pca_values[data_cleared[\"status\"]==c][:,1], label=labels[c])\n",
    "\n",
    "plt.title(\"PCA of labeled data\")\n",
    "plt.legend()\n",
    "print(f\"Explained variance by 2 components: {100*pca.explained_variance_ratio_[:2].sum():.2f}%.\")\n",
    "plt.show()"
   ]
  },
  {
   "cell_type": "markdown",
   "metadata": {},
   "source": [
    "### Data preparation\n",
    "Preparation of data - creating the unlabeled dataset (to be predicted later) and the training and testing dataset, with the ground truth labels stored in `y` and the features in `X`. To create a train/test split sklearn is used."
   ]
  },
  {
   "cell_type": "code",
   "execution_count": 8,
   "metadata": {},
   "outputs": [],
   "source": [
    "X = data_cleared[np.logical_not(data_cleared['status'].isna())]\n",
    "y = X['status'].astype(np.uint8)\n",
    "X = X.drop(['status'], axis=1)\n",
    "unlabeled = data_cleared[data_cleared['status'].isna()].drop(['status'], axis=1)\n",
    "\n",
    "trn_X, tst_X, trn_y, tst_y = sklearn.model_selection.train_test_split(X, y, test_size=0.2, stratify=y, random_state=rs)"
   ]
  },
  {
   "cell_type": "markdown",
   "metadata": {},
   "source": [
    "The number of likely false and true deletions in the train/test split."
   ]
  },
  {
   "cell_type": "code",
   "execution_count": 9,
   "metadata": {},
   "outputs": [
    {
     "data": {
      "text/html": [
       "<div>\n",
       "<style scoped>\n",
       "    .dataframe tbody tr th:only-of-type {\n",
       "        vertical-align: middle;\n",
       "    }\n",
       "\n",
       "    .dataframe tbody tr th {\n",
       "        vertical-align: top;\n",
       "    }\n",
       "\n",
       "    .dataframe thead th {\n",
       "        text-align: right;\n",
       "    }\n",
       "</style>\n",
       "<table border=\"1\" class=\"dataframe\">\n",
       "  <thead>\n",
       "    <tr style=\"text-align: right;\">\n",
       "      <th></th>\n",
       "      <th>Likely false deletion</th>\n",
       "      <th>Likely true deletion</th>\n",
       "      <th>Sum</th>\n",
       "    </tr>\n",
       "  </thead>\n",
       "  <tbody>\n",
       "    <tr>\n",
       "      <th>Train</th>\n",
       "      <td>201</td>\n",
       "      <td>950</td>\n",
       "      <td>1151</td>\n",
       "    </tr>\n",
       "    <tr>\n",
       "      <th>Test</th>\n",
       "      <td>50</td>\n",
       "      <td>238</td>\n",
       "      <td>288</td>\n",
       "    </tr>\n",
       "  </tbody>\n",
       "</table>\n",
       "</div>"
      ],
      "text/plain": [
       "       Likely false deletion  Likely true deletion   Sum\n",
       "Train                    201                   950  1151\n",
       "Test                      50                   238   288"
      ]
     },
     "execution_count": 9,
     "metadata": {},
     "output_type": "execute_result"
    }
   ],
   "source": [
    "div = pd.DataFrame({'Likely false deletion':[sum(trn_y == 0), sum(tst_y == 0)], 'Likely true deletion':[sum(trn_y == 1), sum(tst_y == 1)], 'Sum':[len(trn_y), len(tst_y)]})\n",
    "div.index = ['Train', 'Test']\n",
    "div"
   ]
  },
  {
   "cell_type": "markdown",
   "metadata": {},
   "source": [
    "### Model development\n",
    "Method to find the best parameters for AdaBoostClassifier using sklearn. GridSearchCV is used to try all tried parameters in variable `parameters`, as well as StratifiedKFold for cross-validation."
   ]
  },
  {
   "cell_type": "code",
   "execution_count": 10,
   "metadata": {},
   "outputs": [
    {
     "name": "stdout",
     "output_type": "stream",
     "text": [
      "Accuracy on train data: 100.0%\n",
      "Accuracy on test data: 96.88%\n"
     ]
    }
   ],
   "source": [
    "ada = sklearn.ensemble.AdaBoostClassifier(base_estimator=sklearn.tree.DecisionTreeClassifier(), random_state=rs)\n",
    "\n",
    "parameters = {'base_estimator__max_depth':[i for i in range(6,16,2)],\n",
    "              'base_estimator__min_samples_leaf':[3,5,10],\n",
    "              'n_estimators':[10,15, 50],\n",
    "              'learning_rate':[0.06, 0.1]}\n",
    "\n",
    "cv = sklearn.model_selection.StratifiedKFold(5, shuffle=True, random_state=rs)\n",
    "grid_ada = sklearn.model_selection.GridSearchCV(ada, param_grid=parameters, n_jobs=8, verbose=0)\n",
    "grid_ada.fit(X=trn_X, y=trn_y)\n",
    "\n",
    "print(f'Accuracy on train data: {100*grid_ada.score(trn_X, trn_y)}%')\n",
    "print(f'Accuracy on test data: {100*grid_ada.score(tst_X, tst_y):.2f}%')"
   ]
  },
  {
   "cell_type": "markdown",
   "metadata": {},
   "source": [
    "Confusion matrix and classification report of precision, recall and F1-score is shown."
   ]
  },
  {
   "cell_type": "code",
   "execution_count": 11,
   "metadata": {},
   "outputs": [
    {
     "data": {
      "text/plain": [
       "<sklearn.metrics._plot.confusion_matrix.ConfusionMatrixDisplay at 0x7fae577170d0>"
      ]
     },
     "execution_count": 11,
     "metadata": {},
     "output_type": "execute_result"
    },
    {
     "data": {
      "image/png": "[encoded data removed]",
      "text/plain": [
       "<Figure size 864x720 with 2 Axes>"
      ]
     },
     "metadata": {
      "needs_background": "light"
     },
     "output_type": "display_data"
    }
   ],
   "source": [
    "pred_y =  grid_ada.predict(tst_X)\n",
    "labels = ['Not a Deletion', 'Deletion']\n",
    "sklearn.metrics.ConfusionMatrixDisplay(sklearn.metrics.confusion_matrix(tst_y, pred_y), display_labels=labels).plot()"
   ]
  },
  {
   "cell_type": "code",
   "execution_count": 12,
   "metadata": {},
   "outputs": [
    {
     "data": {
      "text/html": [
       "<div>\n",
       "<style scoped>\n",
       "    .dataframe tbody tr th:only-of-type {\n",
       "        vertical-align: middle;\n",
       "    }\n",
       "\n",
       "    .dataframe tbody tr th {\n",
       "        vertical-align: top;\n",
       "    }\n",
       "\n",
       "    .dataframe thead th {\n",
       "        text-align: right;\n",
       "    }\n",
       "</style>\n",
       "<table border=\"1\" class=\"dataframe\">\n",
       "  <thead>\n",
       "    <tr style=\"text-align: right;\">\n",
       "      <th></th>\n",
       "      <th>Not a Deletion</th>\n",
       "      <th>Deletion</th>\n",
       "      <th>accuracy</th>\n",
       "      <th>macro avg</th>\n",
       "      <th>weighted avg</th>\n",
       "    </tr>\n",
       "  </thead>\n",
       "  <tbody>\n",
       "    <tr>\n",
       "      <th>precision</th>\n",
       "      <td>0.918367</td>\n",
       "      <td>0.979079</td>\n",
       "      <td>0.96875</td>\n",
       "      <td>0.948723</td>\n",
       "      <td>0.968539</td>\n",
       "    </tr>\n",
       "    <tr>\n",
       "      <th>recall</th>\n",
       "      <td>0.900000</td>\n",
       "      <td>0.983193</td>\n",
       "      <td>0.96875</td>\n",
       "      <td>0.941597</td>\n",
       "      <td>0.968750</td>\n",
       "    </tr>\n",
       "    <tr>\n",
       "      <th>f1-score</th>\n",
       "      <td>0.909091</td>\n",
       "      <td>0.981132</td>\n",
       "      <td>0.96875</td>\n",
       "      <td>0.945111</td>\n",
       "      <td>0.968625</td>\n",
       "    </tr>\n",
       "  </tbody>\n",
       "</table>\n",
       "</div>"
      ],
      "text/plain": [
       "           Not a Deletion  Deletion  accuracy  macro avg  weighted avg\n",
       "precision        0.918367  0.979079   0.96875   0.948723      0.968539\n",
       "recall           0.900000  0.983193   0.96875   0.941597      0.968750\n",
       "f1-score         0.909091  0.981132   0.96875   0.945111      0.968625"
      ]
     },
     "execution_count": 12,
     "metadata": {},
     "output_type": "execute_result"
    }
   ],
   "source": [
    "report = pd.DataFrame(sklearn.metrics.classification_report(tst_y, pred_y, target_names=labels, output_dict=True))\n",
    "report.loc[['precision', 'recall', 'f1-score']]"
   ]
  },
  {
   "cell_type": "markdown",
   "metadata": {},
   "source": [
    "Best of the tried models is saved into the variable best_model and the parameters of the best classifier are written. We can see that overfitting is happening (as the test accuracy is lower than training accuracy, which is 100% correct) - the reason for this may be the size of the dataset (it is too small, thus easy to overfit with high enough capacity of a model). "
   ]
  },
  {
   "cell_type": "code",
   "execution_count": 13,
   "metadata": {},
   "outputs": [
    {
     "name": "stdout",
     "output_type": "stream",
     "text": [
      "Parameters of the best performin model:\n",
      " {'base_estimator__max_depth': 12, 'base_estimator__min_samples_leaf': 10, 'learning_rate': 0.1, 'n_estimators': 10}\n"
     ]
    }
   ],
   "source": [
    "best_model = grid_ada.best_estimator_\n",
    "print(f'Parameters of the best performin model:\\n {grid_ada.best_params_}')"
   ]
  },
  {
   "cell_type": "markdown",
   "metadata": {},
   "source": [
    "### Predicting on unlabeled data\n",
    "The model is used for prediction on the unlabeled data, those predictions are then added to the `DataFrame` and are written to a `predictions_ada.tsv` file."
   ]
  },
  {
   "cell_type": "code",
   "execution_count": 14,
   "metadata": {},
   "outputs": [],
   "source": [
    "predictions = best_model.predict(unlabeled)\n",
    "unlabeled['status'] = predictions\n",
    "unlabeled.to_csv('./predictions_ada.tsv', sep='\\t')"
   ]
  },
  {
   "cell_type": "markdown",
   "metadata": {},
   "source": [
    "Model can be saved for later use."
   ]
  },
  {
   "cell_type": "code",
   "execution_count": 15,
   "metadata": {},
   "outputs": [],
   "source": [
    "with lzma.open(\"./ada_model.pickle\", \"wb\") as model_file:\n",
    "    pickle.dump(best_model, model_file)"
   ]
  }
 ],
 "metadata": {
  "kernelspec": {
   "display_name": "ML",
   "language": "python",
   "name": "ml"
  },
  "language_info": {
   "codemirror_mode": {
    "name": "ipython",
    "version": 3
   },
   "file_extension": ".py",
   "mimetype": "text/x-python",
   "name": "python",
   "nbconvert_exporter": "python",
   "pygments_lexer": "ipython3",
   "version": "3.8.5"
  }
 },
 "nbformat": 4,
 "nbformat_minor": 4
}
